{
 "cells": [
  {
   "cell_type": "code",
   "execution_count": 5,
   "metadata": {},
   "outputs": [],
   "source": [
    "import tensorflow as tf\n",
    "import numpy as np\n",
    "import helper as hp"
   ]
  },
  {
   "cell_type": "markdown",
   "metadata": {},
   "source": [
    "Load Data"
   ]
  },
  {
   "cell_type": "code",
   "execution_count": 29,
   "metadata": {},
   "outputs": [],
   "source": [
    "def loadData_2D():\n",
    "    # Loading data\n",
    "    data = np.load('data2D.npy')\n",
    "    [num_pts, dim] = np.shape(data)\n",
    "    \n",
    "    #Validation Set\n",
    "    valid_batch = int(num_pts / 3.0)\n",
    "    np.random.seed(45689)\n",
    "    rnd_idx = np.arange(num_pts)\n",
    "    np.random.shuffle(rnd_idx)\n",
    "    val_data = data[rnd_idx[:valid_batch]]\n",
    "    data = data[rnd_idx[valid_batch:]]\n",
    "    \n",
    "    print(val_data.shape)\n",
    "    print(data.shape)\n"
   ]
  },
  {
   "cell_type": "code",
   "execution_count": 34,
   "metadata": {},
   "outputs": [],
   "source": [
    "def loadData_100D():\n",
    "    # Loading data\n",
    "    data100 = np.load('data100D.npy')\n",
    "    [num_pts, dim] = np.shape(data)\n",
    "    \n",
    "    #Validation Set\n",
    "    valid_batch = int(num_pts / 3.0)\n",
    "    np.random.seed(45689)\n",
    "    rnd_idx = np.arange(num_pts)\n",
    "    np.random.shuffle(rnd_idx)\n",
    "    val_data100 = data[rnd_idx[:valid_batch]]\n",
    "    data100 = data[rnd_idx[valid_batch:]]\n",
    "    \n",
    "    print(val_data100.shape)\n",
    "    print(data100.shape)\n"
   ]
  },
  {
   "cell_type": "code",
   "execution_count": 35,
   "metadata": {},
   "outputs": [
    {
     "name": "stdout",
     "output_type": "stream",
     "text": [
      "(3333, 2)\n",
      "(6667, 2)\n",
      "(2222, 2)\n",
      "(4445, 2)\n"
     ]
    }
   ],
   "source": [
    "loadData_2D()\n",
    "loadData_100D()"
   ]
  },
  {
   "cell_type": "markdown",
   "metadata": {},
   "source": [
    "# Part-1 : K-Means #"
   ]
  },
  {
   "cell_type": "code",
   "execution_count": null,
   "metadata": {},
   "outputs": [],
   "source": []
  },
  {
   "cell_type": "markdown",
   "metadata": {},
   "source": [
    "# Part-2 : GMM #"
   ]
  },
  {
   "cell_type": "code",
   "execution_count": null,
   "metadata": {},
   "outputs": [],
   "source": []
  }
 ],
 "metadata": {
  "kernelspec": {
   "display_name": "Python 3",
   "language": "python",
   "name": "python3"
  },
  "language_info": {
   "codemirror_mode": {
    "name": "ipython",
    "version": 3
   },
   "file_extension": ".py",
   "mimetype": "text/x-python",
   "name": "python",
   "nbconvert_exporter": "python",
   "pygments_lexer": "ipython3",
   "version": "3.5.6"
  }
 },
 "nbformat": 4,
 "nbformat_minor": 2
}
