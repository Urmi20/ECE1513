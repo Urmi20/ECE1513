{
 "cells": [
  {
   "cell_type": "code",
   "execution_count": 110,
   "metadata": {
    "collapsed": true
   },
   "outputs": [],
   "source": [
    "import tensorflow as tf\n",
    "import numpy as np\n",
    "import matplotlib.pyplot as plt\n",
    "import time\n",
    "import os\n",
    "import math\n",
    "os.environ['TF_CPP_MIN_LOG_LEVEL'] = '3'\n"
   ]
  },
  {
   "cell_type": "markdown",
   "metadata": {},
   "source": [
    "Initialization and abstraction of data"
   ]
  },
  {
   "cell_type": "code",
   "execution_count": 111,
   "metadata": {
    "collapsed": true
   },
   "outputs": [],
   "source": [
    "def loadData():\n",
    "    with np.load(\"notMNIST.npz\") as data:\n",
    "        Data, Target = data[\"images\"], data[\"labels\"]\n",
    "        np.random.seed(521)\n",
    "        randIndx = np.arange(len(Data))\n",
    "        np.random.shuffle(randIndx)\n",
    "        Data = Data[randIndx] / 255.0\n",
    "        Target = Target[randIndx]\n",
    "        trainData, trainTarget = Data[:10000], Target[:10000]\n",
    "        validData, validTarget = Data[10000:16000], Target[10000:16000]\n",
    "        testData, testTarget = Data[16000:], Target[16000:]\n",
    "    return trainData, validData, testData, trainTarget, validTarget, testTarget\n"
   ]
  },
  {
   "cell_type": "code",
   "execution_count": 112,
   "metadata": {
    "collapsed": true
   },
   "outputs": [],
   "source": [
    "def convertOneHot(trainTarget, validTarget, testTarget):\n",
    "    newtrain = np.zeros((trainTarget.shape[0], 10))\n",
    "    newvalid = np.zeros((validTarget.shape[0], 10))\n",
    "    newtest = np.zeros((testTarget.shape[0], 10))\n",
    "\n",
    "    for item in range(0, trainTarget.shape[0]):\n",
    "        newtrain[item][trainTarget[item]] = 1\n",
    "    for item in range(0, validTarget.shape[0]):\n",
    "        newvalid[item][validTarget[item]] = 1\n",
    "    for item in range(0, testTarget.shape[0]):\n",
    "        newtest[item][testTarget[item]] = 1\n",
    "    return newtrain, newvalid, newtest\n"
   ]
  },
  {
   "cell_type": "code",
   "execution_count": 113,
   "metadata": {
    "collapsed": true
   },
   "outputs": [],
   "source": [
    "def shuffle(trainData, trainTarget):\n",
    "    np.random.seed(421)\n",
    "    randIndx = np.arange(len(trainData))\n",
    "    target = trainTarget\n",
    "    np.random.shuffle(randIndx)\n",
    "    data, target = trainData[randIndx], target[randIndx]\n",
    "    return data, target\n",
    "\n"
   ]
  },
  {
   "cell_type": "code",
   "execution_count": 114,
   "metadata": {
    "collapsed": false
   },
   "outputs": [
    {
     "name": "stdout",
     "output_type": "stream",
     "text": [
      "(784, 10000)\n"
     ]
    }
   ],
   "source": [
    "trainData, validData, testData, trainTarget, validTarget, testTarget= loadData()\n",
    "train_y, valid_y, test_y = convertOneHot( trainTarget, validTarget, testTarget)\n",
    "#Train Data \n",
    "train_x = trainData.reshape(10000,784)\n",
    "train_X = train_x.T\n",
    "#X0 = np.ones((3500,1))\n",
    "#train_X = np.append(X0,train_X,axis=1)\n",
    "\n",
    "#Test Data\n",
    "global test_X\n",
    "test_X = testData.reshape(2724,784)\n",
    "\n",
    "\n",
    "#Validation Data\n",
    "global validation_X\n",
    "validation_X = validData.reshape(6000,784)\n",
    "print(train_X.shape)"
   ]
  },
  {
   "cell_type": "markdown",
   "metadata": {},
   "source": [
    "Initialization of weights and biases"
   ]
  },
  {
   "cell_type": "code",
   "execution_count": 125,
   "metadata": {
    "collapsed": false
   },
   "outputs": [
    {
     "name": "stdout",
     "output_type": "stream",
     "text": [
      "(784, 1000)\n",
      "(1, 1000)\n"
     ]
    }
   ],
   "source": [
    "#weights and bias from input to hidden layer ---> W, b\n",
    "mu = 0\n",
    "sigma =1 /  math.sqrt(784 + 1000)\n",
    "W = np.random.normal(mu, sigma, [784,1000])\n",
    "b = np.zeros((1,1000))\n",
    "print(s.shape)\n",
    "print(b.shape)\n",
    "\n",
    "\n",
    "#weights and bias from hidden to output layer ---> V,bV\n",
    "mu = 0\n",
    "sigma = math.sqrt(1000 + 10)\n",
    "V = np.random.normal(mu, sigma, [1000,10])\n",
    "bV = np.zeros((1,10))\n",
    "#print(V.shape)\n",
    "#print(bV.shape)"
   ]
  },
  {
   "cell_type": "markdown",
   "metadata": {},
   "source": [
    "Helper Functions"
   ]
  },
  {
   "cell_type": "code",
   "execution_count": 54,
   "metadata": {
    "collapsed": true
   },
   "outputs": [],
   "source": [
    "def relu(x) : \n",
    "    return np.maximum(x,0)"
   ]
  },
  {
   "cell_type": "code",
   "execution_count": 173,
   "metadata": {
    "collapsed": true
   },
   "outputs": [],
   "source": [
    "def softmax(z) :\n",
    "    b = np.amax(z,axis=0)\n",
    "    e_pow = np.exp(z-b)\n",
    "    summation = np.sum(e_pow,0)\n",
    "    out = np.divide(e_pow,summation)\n",
    "    return out"
   ]
  },
  {
   "cell_type": "code",
   "execution_count": 61,
   "metadata": {
    "collapsed": true
   },
   "outputs": [],
   "source": [
    "def computeLayer(X,W,b) :\n",
    "    return np.dot(W.T,X) + b.T"
   ]
  },
  {
   "cell_type": "code",
   "execution_count": 219,
   "metadata": {
    "collapsed": true
   },
   "outputs": [],
   "source": [
    "### need to check inf * 0 problem\n",
    "def CE(target, prediction):\n",
    "    N = target.shape[0]\n",
    "    #check assignment anouncement\n",
    "    ### bug ###\n",
    "    prediction[prediction == 0] = 0.0000001\n",
    "    log_term = np.log(prediction)\n",
    "    CE_out = np.multiply(target,log_term)\n",
    "    CE_out = (np.sum(CE_out)) / N\n",
    "    return -1*CE_out"
   ]
  },
  {
   "cell_type": "code",
   "execution_count": 25,
   "metadata": {
    "collapsed": false
   },
   "outputs": [
    {
     "ename": "SyntaxError",
     "evalue": "unexpected EOF while parsing (<ipython-input-25-c12b5ed612cf>, line 3)",
     "output_type": "error",
     "traceback": [
      "\u001b[0;36m  File \u001b[0;32m\"<ipython-input-25-c12b5ed612cf>\"\u001b[0;36m, line \u001b[0;32m3\u001b[0m\n\u001b[0;31m    # TODO\u001b[0m\n\u001b[0m          ^\u001b[0m\n\u001b[0;31mSyntaxError\u001b[0m\u001b[0;31m:\u001b[0m unexpected EOF while parsing\n"
     ]
    }
   ],
   "source": [
    "def gradCE(target, prediction):\n",
    "\n",
    "    # TODO\n"
   ]
  },
  {
   "cell_type": "markdown",
   "metadata": {},
   "source": [
    "Forward Propagation "
   ]
  },
  {
   "cell_type": "code",
   "execution_count": 220,
   "metadata": {
    "collapsed": false
   },
   "outputs": [
    {
     "name": "stdout",
     "output_type": "stream",
     "text": [
      "263.7748207276756\n"
     ]
    }
   ],
   "source": [
    "#forward propagation\n",
    "S1 = computeLayer(train_X,W,b)\n",
    "#print(\"S1 >> \",S1.shape)\n",
    "\n",
    "Y = relu(S1)\n",
    "#print(\"Y >> \",Y.shape)\n",
    "\n",
    "S2 = computeLayer(Y,V,bV)\n",
    "#print(\"S2 >> \",S2.shape)\n",
    "\n",
    "Z = softmax(S2)\n",
    "#print(\"Z >> \",Z.shape)\n",
    "\n",
    "#test = np.sum(Z,0)\n",
    "#for i in range(10000) :\n",
    "#    if(test[i] != 1) :\n",
    "#        print(test[i])\n",
    "\n",
    "Z_1 = Z.T\n",
    "loss_out = CE(train_y, Z_1)\n",
    "print(loss_out)\n"
   ]
  },
  {
   "cell_type": "markdown",
   "metadata": {},
   "source": [
    "All Gradients"
   ]
  },
  {
   "cell_type": "code",
   "execution_count": 223,
   "metadata": {
    "collapsed": false
   },
   "outputs": [],
   "source": []
  }
 ],
 "metadata": {
  "anaconda-cloud": {},
  "kernelspec": {
   "display_name": "Python [conda root]",
   "language": "python",
   "name": "conda-root-py"
  },
  "language_info": {
   "codemirror_mode": {
    "name": "ipython",
    "version": 3
   },
   "file_extension": ".py",
   "mimetype": "text/x-python",
   "name": "python",
   "nbconvert_exporter": "python",
   "pygments_lexer": "ipython3",
   "version": "3.5.2"
  }
 },
 "nbformat": 4,
 "nbformat_minor": 1
}
